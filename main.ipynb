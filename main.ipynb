{
 "cells": [
  {
   "cell_type": "code",
   "execution_count": 1,
   "metadata": {},
   "outputs": [],
   "source": [
    "import pandas as pd\n",
    "import numpy as np\n",
    "import matplotlib.pyplot as plt\n",
    "import torch\n",
    "import seaborn as sns\n",
    "import warnings\n",
    "import datetime\n",
    "warnings.filterwarnings(\"ignore\")\n",
    "import tensorflow as tf\n",
    "from tensorflow.keras import models, layers\n",
    "import tensorflow_recommenders as tfrs\n",
    "from data_preprocessing import preprocess_data\n",
    "from data_preparation import prepare_interaction_data, prepare_product_data, load_processed_data\n",
    "from utilities import get_product_features, visualisation\n",
    "from user_tower import UserModel\n",
    "from item_tower import ItemModel\n",
    "from two_tower_model import TwoTowerModel as model\n",
    "from metrics import recall_at_k, precision_at_k"
   ]
  },
  {
   "cell_type": "code",
   "execution_count": 2,
   "metadata": {},
   "outputs": [
    {
     "name": "stdout",
     "output_type": "stream",
     "text": [
      "Preprocessing data\n"
     ]
    }
   ],
   "source": [
    "preprocess_data()"
   ]
  },
  {
   "cell_type": "code",
   "execution_count": 3,
   "metadata": {},
   "outputs": [],
   "source": [
    "interactions, interactions_valid, product_features, item_popularity, user_popularity = load_processed_data()"
   ]
  },
  {
   "cell_type": "code",
   "execution_count": 4,
   "metadata": {},
   "outputs": [
    {
     "data": {
      "text/plain": [
       "((185071, 22), (13623, 20), (5547, 22))"
      ]
     },
     "execution_count": 4,
     "metadata": {},
     "output_type": "execute_result"
    }
   ],
   "source": [
    "interactions.shape, product_features.shape, interactions_valid.shape"
   ]
  },
  {
   "cell_type": "code",
   "execution_count": 5,
   "metadata": {},
   "outputs": [],
   "source": [
    "interactions = prepare_interaction_data(interactions, user_popularity, item_popularity)\n",
    "interactions_valid = prepare_interaction_data(interactions_valid, user_popularity, item_popularity)\n",
    "product_features = prepare_product_data(product_features, item_popularity)"
   ]
  },
  {
   "cell_type": "code",
   "execution_count": 6,
   "metadata": {},
   "outputs": [],
   "source": [
    "interactions_tf = tf.data.Dataset.from_tensor_slices((interactions.to_dict(\"list\")))\n",
    "interactions_valid_tf = tf.data.Dataset.from_tensor_slices((interactions_valid.to_dict(\"list\")))\n",
    "products_tf = tf.data.Dataset.from_tensor_slices((product_features.to_dict(\"list\")))"
   ]
  },
  {
   "cell_type": "code",
   "execution_count": 7,
   "metadata": {},
   "outputs": [],
   "source": [
    "customer_model = UserModel(interactions_tf, embedding_dim=64)\n",
    "product_model = ItemModel(products_tf, embedding_dim=64)"
   ]
  },
  {
   "cell_type": "code",
   "execution_count": 8,
   "metadata": {},
   "outputs": [],
   "source": [
    "products_tf = get_product_features(products_tf)"
   ]
  },
  {
   "cell_type": "code",
   "execution_count": 9,
   "metadata": {},
   "outputs": [],
   "source": [
    "model = model(customer_model, product_model, products_tf)"
   ]
  },
  {
   "cell_type": "code",
   "execution_count": null,
   "metadata": {},
   "outputs": [
    {
     "name": "stdout",
     "output_type": "stream",
     "text": [
      "Epoch 1/20\n",
      "516/723 [====================>.........] - ETA: 7:28 - factorized_top_k/top_1_categorical_accuracy: 0.3905 - factorized_top_k/top_5_categorical_accuracy: 0.3976 - factorized_top_k/top_10_categorical_accuracy: 0.4008 - factorized_top_k/top_50_categorical_accuracy: 0.4077 - factorized_top_k/top_100_categorical_accuracy: 0.4117 - loss: 516798.0654 - regularization_loss: 0.0000e+00 - total_loss: 516798.0654"
     ]
    },
    {
     "ename": "",
     "evalue": "",
     "output_type": "error",
     "traceback": [
      "\u001b[1;31mThe Kernel crashed while executing code in the current cell or a previous cell. \n",
      "\u001b[1;31mPlease review the code in the cell(s) to identify a possible cause of the failure. \n",
      "\u001b[1;31mClick <a href='https://aka.ms/vscodeJupyterKernelCrash'>here</a> for more info. \n",
      "\u001b[1;31mView Jupyter <a href='command:jupyter.viewOutput'>log</a> for further details."
     ]
    }
   ],
   "source": [
    "# Enable mixed precision training\n",
    "from tensorflow.keras.mixed_precision import experimental as mixed_precision\n",
    "policy = mixed_precision.Policy('mixed_float16')\n",
    "mixed_precision.set_policy(policy)\n",
    "\n",
    "model.compile(optimizer=tf.keras.optimizers.legacy.Adam(0.01))\n",
    "model.fit(interactions_tf.batch(128), epochs=20, validation_data=interactions_valid_tf)\n"
   ]
  },
  {
   "cell_type": "code",
   "execution_count": null,
   "metadata": {},
   "outputs": [],
   "source": [
    "import json\n",
    "\n",
    "with open('training_history.json', 'w') as f:\n",
    "    json.dump(model.history.history, f)"
   ]
  },
  {
   "cell_type": "markdown",
   "metadata": {},
   "source": [
    "## Retrival with KNN using FAISS"
   ]
  },
  {
   "cell_type": "code",
   "execution_count": null,
   "metadata": {},
   "outputs": [],
   "source": [
    "import faiss\n",
    "\n",
    "# Generate item embeddings\n",
    "item_embeddings = model.get_item_embedding(products_tf)\n",
    "item_embeddings = np.array(item_embeddings).astype('float32')\n",
    "\n",
    "# Create the faiss index\n",
    "d = item_embeddings.shape[1]  # Dimensionality of embeddings\n",
    "index = faiss.IndexFlatL2(d) # Build the index\n",
    "\n",
    "# Add the item embeddings to the index\n",
    "index.add(item_embeddings)\n"
   ]
  },
  {
   "cell_type": "code",
   "execution_count": null,
   "metadata": {},
   "outputs": [],
   "source": [
    "interactions_valid = interactions_valid[['visitor_id', 'itemid']]\n",
    "interactions_valid = interactions_valid.drop_duplicates()\n",
    "interactions_valid = interactions_valid.groupby('visitorid')['itemid'].apply(set).reset_index()\n",
    "interactions_valid = interactions_valid.rename(columns={'visitorid': 'visitor_id', 'itemid': 'relevant_items'})\n",
    "interactions_valid = interactions_valid.merge(user_popularity, on='visitor_id', how='left')\n",
    "interaction_valid_tf = tf.data.Dataset.from_tensor_slices((interactions_valid.to_dict(\"list\")))"
   ]
  },
  {
   "cell_type": "code",
   "execution_count": null,
   "metadata": {},
   "outputs": [],
   "source": [
    "validation_user_embeddings = model.get_user_embedding(interaction_valid_tf)\n",
    "validation_user_embeddings = np.array(validation_user_embeddings).astype('float32')"
   ]
  },
  {
   "cell_type": "code",
   "execution_count": null,
   "metadata": {},
   "outputs": [],
   "source": [
    "k_list = [1,5,10,20,50]\n",
    "for k in k_list:\n",
    "    recalls = []\n",
    "    for user_embedding, relevant_items in zip(validation_user_embeddings, interactions_valid['relevant_items']):\n",
    "        _, I = index.search(np.array([user_embedding]), k)\n",
    "        recommended_items = products_tf['itemid'].iloc[I[0]].values\n",
    "        recalls.append(recall_at_k(relevant_items, recommended_items, k))\n",
    "    print(f\"Recall@{k}: {np.mean(recalls)}\")\n",
    "        "
   ]
  }
 ],
 "metadata": {
  "kernelspec": {
   "display_name": "Python 3",
   "language": "python",
   "name": "python3"
  },
  "language_info": {
   "codemirror_mode": {
    "name": "ipython",
    "version": 3
   },
   "file_extension": ".py",
   "mimetype": "text/x-python",
   "name": "python",
   "nbconvert_exporter": "python",
   "pygments_lexer": "ipython3",
   "version": "3.11.4"
  }
 },
 "nbformat": 4,
 "nbformat_minor": 2
}
