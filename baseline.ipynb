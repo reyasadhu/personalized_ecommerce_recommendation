{
 "cells": [
  {
   "cell_type": "code",
   "execution_count": 1,
   "id": "initial_id",
   "metadata": {
    "ExecuteTime": {
     "end_time": "2024-11-25T17:20:39.829679Z",
     "start_time": "2024-11-25T17:20:39.567312Z"
    },
    "collapsed": true
   },
   "outputs": [
    {
     "name": "stdout",
     "output_type": "stream",
     "text": [
      "Num GPUs Available:  1\n"
     ]
    }
   ],
   "source": [
    "import pandas as pd\n",
    "import numpy as np\n",
    "from sklearn.metrics.pairwise import cosine_similarity\n",
    "from tqdm import tqdm\n",
    "import warnings\n",
    "warnings.filterwarnings(\"ignore\")\n",
    "import tensorflow as tf\n",
    "import random\n",
    "from scipy import sparse\n",
    "from collections import defaultdict\n",
    "import matplotlib.pyplot as plt\n",
    "from metrics import *\n",
    "\n",
    "# Check if TensorFlow is using GPU\n",
    "print(\"Num GPUs Available: \", len(tf.config.experimental.list_physical_devices('GPU')))"
   ]
  },
  {
   "cell_type": "code",
   "execution_count": 2,
   "id": "259631fd871ebe3c",
   "metadata": {
    "ExecuteTime": {
     "end_time": "2024-11-25T17:21:01.853598Z",
     "start_time": "2024-11-25T17:20:54.922970Z"
    }
   },
   "outputs": [],
   "source": [
    "interactions = pd.read_csv(\"processed_data/interactions_train.csv\")\n",
    "interactions_test = pd.read_csv(\"processed_data/interactions_valid.csv\")\n",
    "item_popularity = pd.read_csv(\"processed_data/popularity_item.csv\")"
   ]
  },
  {
   "cell_type": "code",
   "execution_count": 3,
   "id": "9051eaf9",
   "metadata": {},
   "outputs": [],
   "source": [
    "results = defaultdict(list)"
   ]
  },
  {
   "cell_type": "markdown",
   "id": "9186e723",
   "metadata": {},
   "source": [
    "## Baseline Model: Recommend the most popular 50 items"
   ]
  },
  {
   "cell_type": "code",
   "execution_count": 4,
   "id": "7bbe6773",
   "metadata": {},
   "outputs": [],
   "source": [
    "top_items = item_popularity.sort_values(by='number_of_views', ascending=False)\n",
    "top_popular_items = top_items['itemid'].head(50).tolist()"
   ]
  },
  {
   "cell_type": "code",
   "execution_count": 5,
   "id": "9577948d",
   "metadata": {},
   "outputs": [
    {
     "name": "stdout",
     "output_type": "stream",
     "text": [
      "Recall@1: 0.0015744489428699954\n",
      "Recall@5: 0.016644174538911382\n",
      "Recall@10: 0.024741340530814216\n",
      "Recall@20: 0.05263157894736842\n",
      "Recall@50: 0.08614484930274403\n"
     ]
    }
   ],
   "source": [
    "for k in [1,5,10,20,50]:\n",
    "    interactions_test['recall'] = interactions_test['itemid'].apply(lambda x: recall_at_k(set([x]), top_popular_items,k))\n",
    "    print(f'Recall@{k}:', np.mean(interactions_test['recall']))\n",
    "    results[f'Most_popular'].append(np.mean(interactions_test['recall']))"
   ]
  },
  {
   "cell_type": "markdown",
   "id": "c4ba793f",
   "metadata": {},
   "source": [
    "## Recently Viewed items"
   ]
  },
  {
   "cell_type": "code",
   "execution_count": 6,
   "id": "74377156",
   "metadata": {},
   "outputs": [],
   "source": [
    "recently_interacted = interactions.sort_values(by=['visitorid', 'timestamp'], ascending=[True, False])\n",
    "top_recently_interacted = (\n",
    "    recently_interacted.groupby('visitorid')['itemid']\n",
    "    .apply(lambda x: x.drop_duplicates().tolist())\n",
    "    .reset_index()\n",
    ")\n",
    "top_recently_interacted = top_recently_interacted.rename(columns={'itemid': 'recently_interacted'})"
   ]
  },
  {
   "cell_type": "code",
   "execution_count": 7,
   "id": "e383cabe",
   "metadata": {},
   "outputs": [],
   "source": [
    "interactions_test = interactions_test[['visitorid', 'itemid', 'timestamp']]\n",
    "interactions_test = interactions_test.merge(top_recently_interacted, on='visitorid', how='left')"
   ]
  },
  {
   "cell_type": "code",
   "execution_count": 8,
   "id": "76f87d3a",
   "metadata": {},
   "outputs": [
    {
     "name": "stdout",
     "output_type": "stream",
     "text": [
      "Recall@1: 0.18735942420152946\n",
      "Recall@5: 0.21997300944669365\n",
      "Recall@10: 0.22627080521817364\n",
      "Recall@20: 0.22986954565901935\n",
      "Recall@50: 0.23684210526315788\n"
     ]
    }
   ],
   "source": [
    "for k in [1,5,10,20,50]:\n",
    "    interactions_test['recall'] = interactions_test.apply(lambda row: recall_at_k(set([row['itemid']]), row['recently_interacted'], k), axis=1)\n",
    "    print(f'Recall@{k}:', np.mean(interactions_test['recall']))\n",
    "    results[f'RVI'].append(np.mean(interactions_test['recall']))"
   ]
  },
  {
   "cell_type": "code",
   "execution_count": 9,
   "id": "259ba133",
   "metadata": {},
   "outputs": [],
   "source": [
    "usersPerItem = defaultdict(set) # Maps an item to the users who has interacted with it\n",
    "itemsPerUser = defaultdict(set)\n",
    "\n",
    "for idx, row in interactions.iterrows():\n",
    "    user,item = row['visitorid'], row['itemid']\n",
    "    usersPerItem[item].add(user)\n",
    "    itemsPerUser[user].add(item)"
   ]
  },
  {
   "cell_type": "markdown",
   "id": "2ed83bf6",
   "metadata": {},
   "source": [
    "# Creating binary interaction matrix"
   ]
  },
  {
   "cell_type": "code",
   "execution_count": 10,
   "id": "049abcb1",
   "metadata": {},
   "outputs": [],
   "source": [
    "user_item = interactions[['visitorid', 'itemid']]\n",
    "user_item = user_item.drop_duplicates()\n",
    "user_item['interaction'] = 1\n",
    "user_wise_df = user_item.pivot(index='visitorid', columns='itemid', values='interaction').fillna(0)"
   ]
  },
  {
   "cell_type": "code",
   "execution_count": 11,
   "id": "e39485b8",
   "metadata": {},
   "outputs": [],
   "source": [
    "user_id_to_index = {user_id: idx for idx, user_id in enumerate(user_wise_df.index)}\n",
    "index_to_user_id = {idx: user_id for user_id, idx in user_id_to_index.items()}\n",
    "item_id_to_index = {item_id: idx for idx, item_id in enumerate(user_wise_df.columns)}\n",
    "index_to_item_id = {idx: item_id for item_id, idx in item_id_to_index.items()}"
   ]
  },
  {
   "cell_type": "markdown",
   "id": "27e35d90",
   "metadata": {},
   "source": [
    "## User user collaborative filtering"
   ]
  },
  {
   "cell_type": "code",
   "execution_count": 12,
   "id": "24fa736a",
   "metadata": {},
   "outputs": [],
   "source": [
    "sparse_user_wise_df = sparse.csr_matrix(user_wise_df)\n",
    "similarities = cosine_similarity(sparse_user_wise_df,dense_output=False)"
   ]
  },
  {
   "cell_type": "code",
   "execution_count": 13,
   "id": "c5429b5b5327fca1",
   "metadata": {
    "ExecuteTime": {
     "end_time": "2024-11-25T20:32:09.571957Z",
     "start_time": "2024-11-25T20:32:09.560824Z"
    }
   },
   "outputs": [],
   "source": [
    "import heapq\n",
    "def evaluate_user_collaborative(test_interactions,k=10):\n",
    "    recalls = []\n",
    "    \n",
    "    \n",
    "    for user, actual_items in zip(test_interactions['visitorid'], test_interactions['itemid']):\n",
    "        specific_user_index = user_id_to_index[user]\n",
    "        # Get nearest neighbors\n",
    "        user_similarities = similarities[specific_user_index].toarray().flatten()\n",
    "        top_similar_indices = heapq.nlargest(10, range(len(user_similarities)), key=lambda i: user_similarities[i])\n",
    "        similar_users = [index_to_user_id[idx] for idx in top_similar_indices][:10]\n",
    "\n",
    "        # Vectorized prediction\n",
    "        predictions = user_wise_df.loc[similar_users].sum(axis=0)\n",
    "        predictions = predictions[predictions!=0]\n",
    "        \n",
    "        # Select top-k items\n",
    "        top_k_items = predictions.nlargest(k).index.tolist()\n",
    "        \n",
    "        # Compute recall\n",
    "        recalls.append(recall_at_k(set([actual_items]), top_k_items, k))\n",
    "\n",
    "    \n",
    "    return np.mean(recalls)\n",
    "    "
   ]
  },
  {
   "cell_type": "code",
   "execution_count": 14,
   "id": "f8fefa4b",
   "metadata": {},
   "outputs": [
    {
     "name": "stdout",
     "output_type": "stream",
     "text": [
      "Recall@1: 0.17386414754835808\n",
      "Recall@5: 0.21907332433648224\n",
      "Recall@10: 0.23054430949167792\n",
      "Recall@20: 0.23616734143049933\n",
      "Recall@50: 0.2440395861448493\n"
     ]
    }
   ],
   "source": [
    "for k in [1,5,10,20,50]:\n",
    "    recall = evaluate_user_collaborative(interactions_test, k=k)\n",
    "    print(f'Recall@{k}:',recall)\n",
    "    results[f'binary_interaction_user_collaborative'].append(recall)"
   ]
  },
  {
   "cell_type": "markdown",
   "id": "da664c9a",
   "metadata": {},
   "source": [
    "## Item item collaborative Filtering"
   ]
  },
  {
   "cell_type": "code",
   "execution_count": 15,
   "id": "2b06693f",
   "metadata": {},
   "outputs": [],
   "source": [
    "sparse_item_wise_df = sparse.csr_matrix(user_wise_df.T) \n",
    "item_similarities = cosine_similarity(sparse_item_wise_df, dense_output=False)"
   ]
  },
  {
   "cell_type": "code",
   "execution_count": 16,
   "id": "903f5470",
   "metadata": {},
   "outputs": [],
   "source": [
    "def evaluate_item_collaborative(test_interactions, k=10):\n",
    "    recalls = []\n",
    "    precisions = []\n",
    "    \n",
    "    for user, actual_items in zip(test_interactions['visitorid'], test_interactions['itemid']):\n",
    "        seen_items = itemsPerUser[user]  \n",
    "        \n",
    "        # Generate predictions\n",
    "        predictions = pd.Series(dtype=float)\n",
    "        for item in seen_items:\n",
    "            specific_item_index = item_id_to_index[item]\n",
    "            item_similarities_row = item_similarities[specific_item_index].toarray().flatten()\n",
    "            \n",
    "            # Aggregate scores for items similar to the current item\n",
    "            similar_item_indices = np.argsort(item_similarities_row)[-10:]  # Top 10 similar items\n",
    "            for idx in similar_item_indices:\n",
    "                similar_item = index_to_item_id[idx]\n",
    "                if similar_item not in predictions:\n",
    "                    predictions[similar_item] = 0\n",
    "                predictions[similar_item] += item_similarities_row[idx]\n",
    "        \n",
    "    \n",
    "        \n",
    "        # Select top-k items\n",
    "        top_k_items = predictions.nlargest(k).index.tolist()\n",
    "        \n",
    "        # Compute precision and recall\n",
    "        recalls.append(recall_at_k(set([actual_items]), top_k_items, k))\n",
    "    \n",
    "    return np.mean(recalls)"
   ]
  },
  {
   "cell_type": "code",
   "execution_count": 17,
   "id": "6bcfe3bc",
   "metadata": {},
   "outputs": [
    {
     "name": "stdout",
     "output_type": "stream",
     "text": [
      "Recall@1: 0.1700404858299595\n",
      "Recall@5: 0.2201979307242465\n",
      "Recall@10: 0.23031938821412506\n",
      "Recall@20: 0.2483130904183536\n",
      "Recall@50: 0.2591093117408907\n"
     ]
    }
   ],
   "source": [
    "for k in [1,5,10,20,50]:\n",
    "    recall = evaluate_item_collaborative(interactions_test, k=k)\n",
    "    print(f'Recall@{k}:',recall)\n",
    "    results[f'binary_interaction_item_collaborative'].append(recall)"
   ]
  },
  {
   "cell_type": "markdown",
   "id": "5b7107db",
   "metadata": {},
   "source": [
    "## SVD"
   ]
  },
  {
   "cell_type": "code",
   "execution_count": 18,
   "id": "a625bdc4",
   "metadata": {},
   "outputs": [],
   "source": [
    "from scipy.sparse.linalg import svds \n",
    "# Singular Value Decomposition\n",
    "U, s, Vt = svds(sparse_user_wise_df, k = 50) # k is the number of latent features\n",
    "\n",
    "# Construct diagonal array in SVD\n",
    "sigma = np.diag(s)\n",
    "predicted_interactions = np.dot(np.dot(U, sigma), Vt) "
   ]
  },
  {
   "cell_type": "code",
   "execution_count": 19,
   "id": "e2620e7d",
   "metadata": {},
   "outputs": [],
   "source": [
    "def evaluate_svd(test_interactions,k=10):\n",
    "    recalls = []\n",
    "    precisions = []\n",
    "    \n",
    "    \n",
    "    for user, actual_items in zip(test_interactions['visitorid'], test_interactions['itemid']):\n",
    "        specific_user_index = user_id_to_index[user]\n",
    "\n",
    "        # Vectorized prediction\n",
    "        predictions = predicted_interactions[specific_user_index]\n",
    "        predictions = np.argsort(predictions)[-k:][::-1]\n",
    "        \n",
    "        # Select top-k items\n",
    "        top_k_items = [index_to_item_id[pred] for pred in predictions]\n",
    "        \n",
    "        # Compute recall\n",
    "        recalls.append(recall_at_k(set([actual_items]), top_k_items, k))\n",
    "\n",
    "    \n",
    "    return np.mean(recalls)"
   ]
  },
  {
   "cell_type": "code",
   "execution_count": 20,
   "id": "7d4e05b6",
   "metadata": {},
   "outputs": [
    {
     "name": "stdout",
     "output_type": "stream",
     "text": [
      "Recall@1: 0.03958614484930274\n",
      "Recall@5: 0.06387764282501125\n",
      "Recall@10: 0.08704453441295547\n",
      "Recall@20: 0.10278902384165542\n",
      "Recall@50: 0.14147548358074674\n"
     ]
    }
   ],
   "source": [
    "for k in [1,5,10,20,50]:\n",
    "    recall = evaluate_svd(interactions_test, k=k)\n",
    "    print(f'Recall@{k}:',recall)\n",
    "    results[f'binary_interaction_svd'].append(recall)"
   ]
  },
  {
   "cell_type": "markdown",
   "id": "04314481",
   "metadata": {},
   "source": [
    "# Creating interaction matrix with weights as the number of interactions"
   ]
  },
  {
   "cell_type": "code",
   "execution_count": 21,
   "id": "f5daff3ea32ff0d4",
   "metadata": {
    "ExecuteTime": {
     "end_time": "2024-11-25T19:51:16.900895Z",
     "start_time": "2024-11-25T19:51:16.310807Z"
    }
   },
   "outputs": [],
   "source": [
    "user_item = pd.DataFrame(interactions.groupby(['visitorid','itemid'])['timestamp'].count().reset_index())\n",
    "user_wise_df = user_item.pivot(index='visitorid', columns='itemid', values='timestamp').fillna(0)\n"
   ]
  },
  {
   "cell_type": "markdown",
   "id": "27a90ca9",
   "metadata": {},
   "source": [
    "## User user collaborative Filtering"
   ]
  },
  {
   "cell_type": "code",
   "execution_count": 22,
   "id": "d7fd0805",
   "metadata": {},
   "outputs": [],
   "source": [
    "sparse_user_wise_df = sparse.csr_matrix(user_wise_df )\n",
    "similarities = cosine_similarity(sparse_user_wise_df,dense_output=False)"
   ]
  },
  {
   "cell_type": "code",
   "execution_count": 23,
   "id": "b926b490297c1ef9",
   "metadata": {
    "ExecuteTime": {
     "end_time": "2024-11-25T20:32:11.978439Z",
     "start_time": "2024-11-25T20:32:11.975959Z"
    }
   },
   "outputs": [
    {
     "name": "stdout",
     "output_type": "stream",
     "text": [
      "Recall@1: 0.1866846603688709\n",
      "Recall@5: 0.22177237966711652\n",
      "Recall@10: 0.2276203328834908\n",
      "Recall@20: 0.23301844354475934\n",
      "Recall@50: 0.24066576698155645\n"
     ]
    }
   ],
   "source": [
    "for k in [1,5,10,20,50]:\n",
    "    recall = evaluate_user_collaborative(interactions_test, k=k)\n",
    "    print(f'Recall@{k}:',recall)\n",
    "    results[f'interaction_counts_user_collaborative'].append(recall)"
   ]
  },
  {
   "cell_type": "markdown",
   "id": "e4709b9c",
   "metadata": {},
   "source": [
    "## Item item collaborative Filtering"
   ]
  },
  {
   "cell_type": "code",
   "execution_count": 24,
   "id": "a1343bbc",
   "metadata": {},
   "outputs": [],
   "source": [
    "sparse_item_wise_df = sparse.csr_matrix(user_wise_df.T) \n",
    "item_similarities = cosine_similarity(sparse_item_wise_df, dense_output=False)"
   ]
  },
  {
   "cell_type": "code",
   "execution_count": 25,
   "id": "a0122d48",
   "metadata": {},
   "outputs": [
    {
     "name": "stdout",
     "output_type": "stream",
     "text": [
      "Recall@1: 0.1743139901034638\n",
      "Recall@5: 0.22402159244264508\n",
      "Recall@10: 0.23616734143049933\n",
      "Recall@20: 0.24561403508771928\n",
      "Recall@50: 0.25618533513270353\n"
     ]
    }
   ],
   "source": [
    "for k in [1,5,10,20,50]:\n",
    "    recall = evaluate_item_collaborative(interactions_test, k=k)\n",
    "    print(f'Recall@{k}:',recall)\n",
    "    results[f'interaction_counts_item_collaborative'].append(recall)"
   ]
  },
  {
   "cell_type": "markdown",
   "id": "f1a8f97d",
   "metadata": {},
   "source": [
    "## Singular Value decomoposition"
   ]
  },
  {
   "cell_type": "code",
   "execution_count": 26,
   "id": "2b8d7131",
   "metadata": {},
   "outputs": [],
   "source": [
    "from scipy.sparse.linalg import svds \n",
    "# Singular Value Decomposition\n",
    "U, s, Vt = svds(sparse_user_wise_df, k = 50) # k is the number of latent features\n",
    "\n",
    "# Construct diagonal array in SVD\n",
    "sigma = np.diag(s)\n",
    "predicted_interactions = np.dot(np.dot(U, sigma), Vt) "
   ]
  },
  {
   "cell_type": "code",
   "execution_count": 27,
   "id": "b4db8b81",
   "metadata": {},
   "outputs": [
    {
     "name": "stdout",
     "output_type": "stream",
     "text": [
      "Recall@1: 0.04048582995951417\n",
      "Recall@5: 0.07647323436797121\n",
      "Recall@10: 0.08704453441295547\n",
      "Recall@20: 0.10436347278452542\n",
      "Recall@50: 0.13877642825011247\n"
     ]
    }
   ],
   "source": [
    "for k in [1,5,10,20,50]:\n",
    "    recall = evaluate_svd(interactions_test, k=k)\n",
    "    print(f'Recall@{k}:',recall)\n",
    "    results[f'interaction_counts_svd'].append(recall)"
   ]
  },
  {
   "cell_type": "markdown",
   "id": "342e6868",
   "metadata": {},
   "source": [
    "## Removing duplicate events , but weighing the events"
   ]
  },
  {
   "cell_type": "code",
   "execution_count": 28,
   "id": "9fb79ab6e2ba750d",
   "metadata": {
    "ExecuteTime": {
     "end_time": "2024-11-25T20:32:17.945420Z",
     "start_time": "2024-11-25T20:32:17.942439Z"
    }
   },
   "outputs": [],
   "source": [
    "event_map={'view':1, 'addtocart':2, 'transaction':3}\n",
    "train_interactions = interactions[['visitorid','itemid','event']]\n",
    "train_interactions = train_interactions.drop_duplicates()\n",
    "train_interactions['weight'] = train_interactions['event'].apply(lambda x:event_map[x])\n",
    "train_interactions = train_interactions.sort_values(by=['visitorid','itemid','weight'], ascending=[True, True, False])\n",
    "train_interactions = train_interactions.drop_duplicates(subset=['visitorid','itemid'], keep='first')\n"
   ]
  },
  {
   "cell_type": "markdown",
   "id": "45210ac5",
   "metadata": {},
   "source": [
    "### User-user collaborative"
   ]
  },
  {
   "cell_type": "code",
   "execution_count": 29,
   "id": "9c2eb59cf9f4bcc6",
   "metadata": {},
   "outputs": [],
   "source": [
    "user_wise_df = train_interactions.pivot(index='visitorid', columns='itemid', values='weight').fillna(0)\n",
    "sparse_user_wise_df = sparse.csr_matrix(user_wise_df )\n",
    "similarities = cosine_similarity(sparse_user_wise_df,dense_output=False)"
   ]
  },
  {
   "cell_type": "code",
   "execution_count": 30,
   "id": "5359a0cd",
   "metadata": {},
   "outputs": [
    {
     "name": "stdout",
     "output_type": "stream",
     "text": [
      "Recall@1: 0.17656320287899235\n",
      "Recall@5: 0.22177237966711652\n",
      "Recall@10: 0.23121907332433647\n",
      "Recall@20: 0.23616734143049933\n",
      "Recall@50: 0.24134053081421503\n"
     ]
    }
   ],
   "source": [
    "for k in [1,5,10,20,50]:\n",
    "    recall = evaluate_user_collaborative(interactions_test, k=k)\n",
    "    print(f'Recall@{k}:',recall)\n",
    "    results[f'weighted_interaction_user_collaborative'].append(recall)"
   ]
  },
  {
   "cell_type": "markdown",
   "id": "aba7115a",
   "metadata": {},
   "source": [
    "### Item-item collaborative"
   ]
  },
  {
   "cell_type": "code",
   "execution_count": 31,
   "id": "79dc7b60",
   "metadata": {},
   "outputs": [],
   "source": [
    "sparse_item_wise_df = sparse.csr_matrix(user_wise_df.T )\n",
    "item_similarities = cosine_similarity(sparse_item_wise_df,dense_output=False)"
   ]
  },
  {
   "cell_type": "code",
   "execution_count": 32,
   "id": "3f0b8cbc",
   "metadata": {},
   "outputs": [
    {
     "name": "stdout",
     "output_type": "stream",
     "text": [
      "Recall@1: 0.17566351776878092\n",
      "Recall@5: 0.22199730094466938\n",
      "Recall@10: 0.23234367971210076\n",
      "Recall@20: 0.24246513720197932\n",
      "Recall@50: 0.253936122357175\n"
     ]
    }
   ],
   "source": [
    "for k in [1,5,10,20,50]:\n",
    "    recall = evaluate_item_collaborative(interactions_test, k=k)\n",
    "    print(f'Recall@{k}:',recall)\n",
    "    results[f'weighted_interaction_item_collaborative'].append(recall)"
   ]
  },
  {
   "cell_type": "markdown",
   "id": "5558bae6",
   "metadata": {},
   "source": [
    "### SVD"
   ]
  },
  {
   "cell_type": "code",
   "execution_count": 33,
   "id": "08a588e8",
   "metadata": {},
   "outputs": [],
   "source": [
    "U, s, Vt = svds(sparse_user_wise_df, k = 50) \n",
    "sigma = np.diag(s)\n",
    "predicted_interactions = np.dot(np.dot(U, sigma), Vt) "
   ]
  },
  {
   "cell_type": "code",
   "execution_count": 34,
   "id": "5b9f033a",
   "metadata": {},
   "outputs": [
    {
     "name": "stdout",
     "output_type": "stream",
     "text": [
      "Recall@1: 0.05060728744939271\n",
      "Recall@5: 0.06702654071075123\n",
      "Recall@10: 0.08771929824561403\n",
      "Recall@20: 0.10818713450292397\n",
      "Recall@50: 0.14642375168690958\n"
     ]
    }
   ],
   "source": [
    "for k in [1,5,10,20,50]:\n",
    "    recall = evaluate_svd(interactions_test, k=k)\n",
    "    print(f'Recall@{k}:',recall)\n",
    "    results[f'weighted_interaction_svd'].append(recall)"
   ]
  },
  {
   "cell_type": "code",
   "execution_count": 39,
   "id": "8d15957d",
   "metadata": {},
   "outputs": [
    {
     "data": {
      "text/plain": [
       "Text(0, 0.5, 'Recall@k')"
      ]
     },
     "execution_count": 39,
     "metadata": {},
     "output_type": "execute_result"
    },
    {
     "data": {
      "image/png": "[encoded data removed]",
      "text/plain": [
       "<Figure size 1500x600 with 1 Axes>"
      ]
     },
     "metadata": {},
     "output_type": "display_data"
    }
   ],
   "source": [
    "# Visualize results\n",
    "plt.figure(figsize=(15, 6))\n",
    "for model, values in results.items():\n",
    "    plt.plot(values, label=model)\n",
    "plt.legend()\n",
    "plt.xticks(range(5), [\"k=1\", \"k=5\", \"k=10\", \"k=20\", \"k=50\"])\n",
    "plt.ylabel(\"Recall@k\")"
   ]
  },
  {
   "cell_type": "code",
   "execution_count": 41,
   "id": "ebf56281",
   "metadata": {},
   "outputs": [
    {
     "data": {
      "text/html": [
       "<div>\n",
       "<style scoped>\n",
       "    .dataframe tbody tr th:only-of-type {\n",
       "        vertical-align: middle;\n",
       "    }\n",
       "\n",
       "    .dataframe tbody tr th {\n",
       "        vertical-align: top;\n",
       "    }\n",
       "\n",
       "    .dataframe thead th {\n",
       "        text-align: right;\n",
       "    }\n",
       "</style>\n",
       "<table border=\"1\" class=\"dataframe\">\n",
       "  <thead>\n",
       "    <tr style=\"text-align: right;\">\n",
       "      <th></th>\n",
       "      <th>0</th>\n",
       "      <th>1</th>\n",
       "      <th>2</th>\n",
       "      <th>3</th>\n",
       "      <th>4</th>\n",
       "    </tr>\n",
       "  </thead>\n",
       "  <tbody>\n",
       "    <tr>\n",
       "      <th>Most_popular</th>\n",
       "      <td>0.001574</td>\n",
       "      <td>0.016644</td>\n",
       "      <td>0.024741</td>\n",
       "      <td>0.052632</td>\n",
       "      <td>0.086145</td>\n",
       "    </tr>\n",
       "    <tr>\n",
       "      <th>RVI</th>\n",
       "      <td>0.187359</td>\n",
       "      <td>0.219973</td>\n",
       "      <td>0.226271</td>\n",
       "      <td>0.229870</td>\n",
       "      <td>0.236842</td>\n",
       "    </tr>\n",
       "    <tr>\n",
       "      <th>binary_interaction_user_collaborative</th>\n",
       "      <td>0.173864</td>\n",
       "      <td>0.219073</td>\n",
       "      <td>0.230544</td>\n",
       "      <td>0.236167</td>\n",
       "      <td>0.244040</td>\n",
       "    </tr>\n",
       "    <tr>\n",
       "      <th>binary_interaction_item_collaborative</th>\n",
       "      <td>0.170040</td>\n",
       "      <td>0.220198</td>\n",
       "      <td>0.230319</td>\n",
       "      <td>0.248313</td>\n",
       "      <td>0.259109</td>\n",
       "    </tr>\n",
       "    <tr>\n",
       "      <th>binary_interaction_svd</th>\n",
       "      <td>0.039586</td>\n",
       "      <td>0.063878</td>\n",
       "      <td>0.087045</td>\n",
       "      <td>0.102789</td>\n",
       "      <td>0.141475</td>\n",
       "    </tr>\n",
       "    <tr>\n",
       "      <th>interaction_counts_user_collaborative</th>\n",
       "      <td>0.186685</td>\n",
       "      <td>0.221772</td>\n",
       "      <td>0.227620</td>\n",
       "      <td>0.233018</td>\n",
       "      <td>0.240666</td>\n",
       "    </tr>\n",
       "    <tr>\n",
       "      <th>interaction_counts_item_collaborative</th>\n",
       "      <td>0.174314</td>\n",
       "      <td>0.224022</td>\n",
       "      <td>0.236167</td>\n",
       "      <td>0.245614</td>\n",
       "      <td>0.256185</td>\n",
       "    </tr>\n",
       "    <tr>\n",
       "      <th>interaction_counts_svd</th>\n",
       "      <td>0.040486</td>\n",
       "      <td>0.076473</td>\n",
       "      <td>0.087045</td>\n",
       "      <td>0.104363</td>\n",
       "      <td>0.138776</td>\n",
       "    </tr>\n",
       "    <tr>\n",
       "      <th>weighted_interaction_user_collaborative</th>\n",
       "      <td>0.176563</td>\n",
       "      <td>0.221772</td>\n",
       "      <td>0.231219</td>\n",
       "      <td>0.236167</td>\n",
       "      <td>0.241341</td>\n",
       "    </tr>\n",
       "    <tr>\n",
       "      <th>weighted_interaction_item_collaborative</th>\n",
       "      <td>0.175664</td>\n",
       "      <td>0.221997</td>\n",
       "      <td>0.232344</td>\n",
       "      <td>0.242465</td>\n",
       "      <td>0.253936</td>\n",
       "    </tr>\n",
       "    <tr>\n",
       "      <th>weighted_interaction_svd</th>\n",
       "      <td>0.050607</td>\n",
       "      <td>0.067027</td>\n",
       "      <td>0.087719</td>\n",
       "      <td>0.108187</td>\n",
       "      <td>0.146424</td>\n",
       "    </tr>\n",
       "  </tbody>\n",
       "</table>\n",
       "</div>"
      ],
      "text/plain": [
       "                                                0         1         2  \\\n",
       "Most_popular                             0.001574  0.016644  0.024741   \n",
       "RVI                                      0.187359  0.219973  0.226271   \n",
       "binary_interaction_user_collaborative    0.173864  0.219073  0.230544   \n",
       "binary_interaction_item_collaborative    0.170040  0.220198  0.230319   \n",
       "binary_interaction_svd                   0.039586  0.063878  0.087045   \n",
       "interaction_counts_user_collaborative    0.186685  0.221772  0.227620   \n",
       "interaction_counts_item_collaborative    0.174314  0.224022  0.236167   \n",
       "interaction_counts_svd                   0.040486  0.076473  0.087045   \n",
       "weighted_interaction_user_collaborative  0.176563  0.221772  0.231219   \n",
       "weighted_interaction_item_collaborative  0.175664  0.221997  0.232344   \n",
       "weighted_interaction_svd                 0.050607  0.067027  0.087719   \n",
       "\n",
       "                                                3         4  \n",
       "Most_popular                             0.052632  0.086145  \n",
       "RVI                                      0.229870  0.236842  \n",
       "binary_interaction_user_collaborative    0.236167  0.244040  \n",
       "binary_interaction_item_collaborative    0.248313  0.259109  \n",
       "binary_interaction_svd                   0.102789  0.141475  \n",
       "interaction_counts_user_collaborative    0.233018  0.240666  \n",
       "interaction_counts_item_collaborative    0.245614  0.256185  \n",
       "interaction_counts_svd                   0.104363  0.138776  \n",
       "weighted_interaction_user_collaborative  0.236167  0.241341  \n",
       "weighted_interaction_item_collaborative  0.242465  0.253936  \n",
       "weighted_interaction_svd                 0.108187  0.146424  "
      ]
     },
     "execution_count": 41,
     "metadata": {},
     "output_type": "execute_result"
    }
   ],
   "source": [
    "pd.DataFrame(results).transpose()"
   ]
  },
  {
   "cell_type": "code",
   "execution_count": null,
   "id": "0cff514b",
   "metadata": {},
   "outputs": [],
   "source": []
  }
 ],
 "metadata": {
  "kernelspec": {
   "display_name": "Python 3",
   "language": "python",
   "name": "python3"
  },
  "language_info": {
   "codemirror_mode": {
    "name": "ipython",
    "version": 3
   },
   "file_extension": ".py",
   "mimetype": "text/x-python",
   "name": "python",
   "nbconvert_exporter": "python",
   "pygments_lexer": "ipython3",
   "version": "3.11.4"
  }
 },
 "nbformat": 4,
 "nbformat_minor": 5
}
