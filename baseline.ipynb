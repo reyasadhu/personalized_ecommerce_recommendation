{
 "cells": [
  {
   "cell_type": "code",
   "execution_count": 72,
   "id": "initial_id",
   "metadata": {
    "ExecuteTime": {
     "end_time": "2024-11-25T17:20:39.829679Z",
     "start_time": "2024-11-25T17:20:39.567312Z"
    },
    "collapsed": true
   },
   "outputs": [],
   "source": [
    "import pandas as pd\n",
    "import numpy as np\n",
    "from sklearn.metrics.pairwise import cosine_similarity\n",
    "from tqdm import tqdm\n",
    "import warnings\n",
    "warnings.filterwarnings(\"ignore\")\n",
    "import tensorflow as tf\n",
    "import random\n",
    "from metrics import *"
   ]
  },
  {
   "cell_type": "code",
   "execution_count": 73,
   "id": "259631fd871ebe3c",
   "metadata": {
    "ExecuteTime": {
     "end_time": "2024-11-25T17:21:01.853598Z",
     "start_time": "2024-11-25T17:20:54.922970Z"
    }
   },
   "outputs": [],
   "source": [
    "interactions = pd.read_csv(\"processed_data/interactions_train.csv\")\n",
    "interactions_test = pd.read_csv(\"processed_data/interactions_valid.csv\")\n",
    "item_popularity = pd.read_csv(\"processed_data/popularity_item.csv\")\n",
    "user_popularity = pd.read_csv(\"processed_data/popularity_user.csv\")\n",
    "product_features = pd.read_csv(\"processed_data/product_features.csv\")"
   ]
  },
  {
   "cell_type": "code",
   "execution_count": 74,
   "id": "10eb657d",
   "metadata": {},
   "outputs": [
    {
     "data": {
      "text/plain": [
       "(127780, 22)"
      ]
     },
     "execution_count": 74,
     "metadata": {},
     "output_type": "execute_result"
    }
   ],
   "source": [
    "interactions.shape"
   ]
  },
  {
   "cell_type": "code",
   "execution_count": 75,
   "id": "e1cc2026",
   "metadata": {},
   "outputs": [
    {
     "data": {
      "text/plain": [
       "77563"
      ]
     },
     "execution_count": 75,
     "metadata": {},
     "output_type": "execute_result"
    }
   ],
   "source": [
    "interactions['visitorid'].nunique()"
   ]
  },
  {
   "cell_type": "markdown",
   "id": "c4ba793f",
   "metadata": {},
   "source": [
    "## Recently Viewed items"
   ]
  },
  {
   "cell_type": "code",
   "execution_count": 76,
   "id": "74377156",
   "metadata": {},
   "outputs": [],
   "source": [
    "recently_interacted = interactions.sort_values(by=['visitorid', 'timestamp'], ascending=[True, False])\n",
    "top_recently_interacted = (\n",
    "    recently_interacted.groupby('visitorid')['itemid']\n",
    "    .apply(lambda x: x.drop_duplicates().tolist())\n",
    "    .reset_index()\n",
    ")"
   ]
  },
  {
   "cell_type": "code",
   "execution_count": 77,
   "id": "95c59511",
   "metadata": {},
   "outputs": [],
   "source": [
    "test_interactions = interactions_test.groupby('visitorid')['itemid'].apply(set).reset_index()\n",
    "test_interactions.columns = ['visitorid', 'relevant_items']"
   ]
  },
  {
   "cell_type": "code",
   "execution_count": 78,
   "id": "7fa272fc",
   "metadata": {},
   "outputs": [],
   "source": [
    "test_interactions = test_interactions.merge(top_recently_interacted, on='visitorid',how='left')\n",
    "test_interactions.rename(columns={'itemid':'RVI_predicted'}, inplace= True) "
   ]
  },
  {
   "cell_type": "code",
   "execution_count": 79,
   "id": "76f87d3a",
   "metadata": {},
   "outputs": [
    {
     "name": "stdout",
     "output_type": "stream",
     "text": [
      "Precision@1: 0.35680304471931495 Recall@1: 0.320797951430452\n",
      "Precision@5: 0.08277830637488107 Recall@5: 0.3437992138579941\n",
      "Precision@10: 0.04281636536631779 Recall@10: 0.34643372271990236\n",
      "Precision@20: 0.021836346336822077 Recall@20: 0.3470162068769855\n",
      "Precision@50: 0.00907706945765937 Recall@50: 0.34753733763286476\n"
     ]
    }
   ],
   "source": [
    "for k in [1,5,10,20,50]:\n",
    "    test_interactions['precision'] = test_interactions.apply(lambda row: precision_at_k(row['relevant_items'], row['RVI_predicted'], k), axis=1)\n",
    "    test_interactions['recall'] = test_interactions.apply(lambda row: recall_at_k(row['relevant_items'], row['RVI_predicted'], k), axis=1)\n",
    "    print(f'Precision@{k}:', np.mean(test_interactions['precision']),f'Recall@{k}:', np.mean(test_interactions['recall']))"
   ]
  },
  {
   "cell_type": "markdown",
   "id": "9186e723",
   "metadata": {},
   "source": [
    "## Baseline Model: Recommend the most popular 50 items"
   ]
  },
  {
   "cell_type": "code",
   "execution_count": 80,
   "id": "7bbe6773",
   "metadata": {},
   "outputs": [],
   "source": [
    "top_items = item_popularity.sort_values(by='number_of_views', ascending=False)\n",
    "top_popular_items = top_items['itemid'].head(50).tolist()"
   ]
  },
  {
   "cell_type": "code",
   "execution_count": 81,
   "id": "9577948d",
   "metadata": {},
   "outputs": [
    {
     "name": "stdout",
     "output_type": "stream",
     "text": [
      "Precision@1: 0.0019029495718363464 Recall@1: 0.0019029495718363464\n",
      "Precision@5: 0.007040913415794482 Recall@5: 0.019143018741983674\n",
      "Precision@10: 0.006089438629876308 Recall@10: 0.03176126511633503\n",
      "Precision@20: 0.005613701236917222 Recall@20: 0.058162504046047864\n",
      "Precision@50: 0.0038249286393910566 Recall@50: 0.09566376061630838\n"
     ]
    }
   ],
   "source": [
    "for k in [1,5,10,20,50]:\n",
    "    test_interactions['precision'] = test_interactions['relevant_items'].apply(lambda x: precision_at_k(x, top_popular_items,k))\n",
    "    test_interactions['recall'] = test_interactions['relevant_items'].apply(lambda x: recall_at_k(x, top_popular_items,k))\n",
    "    print(f'Precision@{k}:', np.mean(test_interactions['precision']),f'Recall@{k}:', np.mean(test_interactions['recall']))"
   ]
  },
  {
   "cell_type": "markdown",
   "id": "27a90ca9",
   "metadata": {},
   "source": [
    "## User user collaborative Filtering"
   ]
  },
  {
   "cell_type": "code",
   "execution_count": 82,
   "id": "259ba133",
   "metadata": {},
   "outputs": [],
   "source": [
    "from collections import defaultdict\n",
    "\n",
    "usersPerItem = defaultdict(set) # Maps an item to the users who has interacted with it\n",
    "itemsPerUser = defaultdict(set)\n",
    "\n",
    "for idx, row in interactions.iterrows():\n",
    "    user,item = row['visitorid'], row['itemid']\n",
    "    usersPerItem[item].add(user)\n",
    "    itemsPerUser[user].add(item)"
   ]
  },
  {
   "cell_type": "code",
   "execution_count": 83,
   "id": "f5daff3ea32ff0d4",
   "metadata": {
    "ExecuteTime": {
     "end_time": "2024-11-25T19:51:16.900895Z",
     "start_time": "2024-11-25T19:51:16.310807Z"
    }
   },
   "outputs": [],
   "source": [
    "user_item = pd.DataFrame(interactions.groupby(['visitorid','itemid'])['timestamp'].count().reset_index())\n",
    "user_wise_df = user_item.pivot(index='visitorid', columns='itemid', values='timestamp').fillna(0)\n"
   ]
  },
  {
   "cell_type": "code",
   "execution_count": 84,
   "id": "e39485b8",
   "metadata": {},
   "outputs": [],
   "source": [
    "user_id_to_index = {user_id: idx for idx, user_id in enumerate(user_wise_df.index)}\n",
    "index_to_user_id = {idx: user_id for user_id, idx in user_id_to_index.items()}\n",
    "item_id_to_index = {item_id: idx for idx, item_id in enumerate(user_wise_df.columns)}\n",
    "index_to_item_id = {idx: item_id for item_id, idx in item_id_to_index.items()}"
   ]
  },
  {
   "cell_type": "code",
   "execution_count": 85,
   "id": "d7fd0805",
   "metadata": {},
   "outputs": [],
   "source": [
    "from scipy import sparse\n",
    "sparse_user_wise_df = sparse.csr_matrix(user_wise_df )\n",
    "similarities = cosine_similarity(sparse_user_wise_df,dense_output=False)"
   ]
  },
  {
   "cell_type": "code",
   "execution_count": 86,
   "id": "c5429b5b5327fca1",
   "metadata": {
    "ExecuteTime": {
     "end_time": "2024-11-25T20:32:09.571957Z",
     "start_time": "2024-11-25T20:32:09.560824Z"
    }
   },
   "outputs": [],
   "source": [
    "import heapq\n",
    "def evaluate_user_collaborative(test_interactions,k=10):\n",
    "    recalls = []\n",
    "    precisions = []\n",
    "    \n",
    "    \n",
    "    for user, actual_items in zip(test_interactions['visitorid'], test_interactions['relevant_items']):\n",
    "        specific_user_index = user_id_to_index[user]\n",
    "        # Get nearest neighbors\n",
    "        user_similarities = similarities[specific_user_index].toarray().flatten()\n",
    "        top_similar_indices = heapq.nlargest(10, range(len(user_similarities)), key=lambda i: user_similarities[i])\n",
    "        similar_users = [index_to_user_id[idx] for idx in top_similar_indices][:10]\n",
    "\n",
    "        # Vectorized prediction for unseen items\n",
    "        predictions = user_wise_df.loc[similar_users].sum(axis=0)\n",
    "        predictions = predictions[predictions!=0]\n",
    "        \n",
    "        # Select top-k items\n",
    "        top_k_items = predictions.nlargest(k).index.tolist()\n",
    "        \n",
    "        # Compute precision and recall\n",
    "        recalls.append(recall_at_k(actual_items, top_k_items, k))\n",
    "        precisions.append(precision_at_k(actual_items, top_k_items, k))\n",
    "\n",
    "    \n",
    "    return {\n",
    "        f'Precision@{k}': np.mean(precisions),\n",
    "        f'Recall@{k}': np.mean(recalls)\n",
    "    }"
   ]
  },
  {
   "cell_type": "code",
   "execution_count": 87,
   "id": "b926b490297c1ef9",
   "metadata": {
    "ExecuteTime": {
     "end_time": "2024-11-25T20:32:11.978439Z",
     "start_time": "2024-11-25T20:32:11.975959Z"
    }
   },
   "outputs": [
    {
     "name": "stdout",
     "output_type": "stream",
     "text": [
      "{'Precision@1': 0.3425309229305423, 'Recall@1': 0.3042906785401655}\n",
      "{'Precision@5': 0.08258801141769744, 'Recall@5': 0.34242482595400914}\n",
      "{'Precision@10': 0.042721217887725975, 'Recall@10': 0.3490346684320723}\n",
      "{'Precision@20': 0.022074215033301616, 'Recall@20': 0.352761374148759}\n",
      "{'Precision@50': 0.009267364414843007, 'Recall@50': 0.35365899155425196}\n"
     ]
    }
   ],
   "source": [
    "for k in [1,5,10,20,50]:\n",
    "    print(evaluate_user_collaborative(test_interactions, k=k))"
   ]
  },
  {
   "cell_type": "markdown",
   "id": "e4709b9c",
   "metadata": {},
   "source": [
    "## Item item collaborative Filtering"
   ]
  },
  {
   "cell_type": "code",
   "execution_count": 88,
   "id": "a1343bbc",
   "metadata": {},
   "outputs": [],
   "source": [
    "sparse_item_wise_df = sparse.csr_matrix(user_wise_df.T) \n",
    "item_similarities = cosine_similarity(sparse_item_wise_df, dense_output=False)"
   ]
  },
  {
   "cell_type": "code",
   "execution_count": 89,
   "id": "903f5470",
   "metadata": {},
   "outputs": [],
   "source": [
    "def evaluate_item_collaborative(test_interactions, k=10):\n",
    "    recalls = []\n",
    "    precisions = []\n",
    "    \n",
    "    for user, actual_items in zip(test_interactions['visitorid'], test_interactions['relevant_items']):\n",
    "        seen_items = itemsPerUser[user]  \n",
    "        \n",
    "        # Generate predictions\n",
    "        predictions = pd.Series(dtype=float)\n",
    "        for item in seen_items:\n",
    "            specific_item_index = item_id_to_index[item]\n",
    "            item_similarities_row = item_similarities[specific_item_index].toarray().flatten()\n",
    "            \n",
    "            # Aggregate scores for items similar to the current item\n",
    "            similar_item_indices = np.argsort(item_similarities_row)[-10:]  # Top 10 similar items\n",
    "            for idx in similar_item_indices:\n",
    "                similar_item = index_to_item_id[idx]\n",
    "                if similar_item not in predictions:\n",
    "                    predictions[similar_item] = 0\n",
    "                predictions[similar_item] += item_similarities_row[idx]\n",
    "        \n",
    "    \n",
    "        \n",
    "        # Select top-k items\n",
    "        top_k_items = predictions.nlargest(k).index.tolist()\n",
    "        \n",
    "        # Compute precision and recall\n",
    "        recalls.append(recall_at_k(actual_items, top_k_items, k))\n",
    "        precisions.append(precision_at_k(actual_items, top_k_items, k))\n",
    "    \n",
    "    return {\n",
    "        f'Precision@{k}': np.mean(precisions),\n",
    "        f'Recall@{k}': np.mean(recalls)\n",
    "    }"
   ]
  },
  {
   "cell_type": "code",
   "execution_count": 90,
   "id": "a0122d48",
   "metadata": {},
   "outputs": [
    {
     "name": "stdout",
     "output_type": "stream",
     "text": [
      "{'Precision@1': 0.33111322549952427, 'Recall@1': 0.3026826302991859}\n",
      "{'Precision@5': 0.08334919124643196, 'Recall@5': 0.35344415486516173}\n",
      "{'Precision@10': 0.04490960989533778, 'Recall@10': 0.3681979172848415}\n",
      "{'Precision@20': 0.023739295908658423, 'Recall@20': 0.37434201512250265}\n",
      "{'Precision@50': 0.010123691722169361, 'Recall@50': 0.37789871862774127}\n"
     ]
    }
   ],
   "source": [
    "for k in [1,5,10,20,50]:\n",
    "    print(evaluate_item_collaborative(test_interactions, k=k))"
   ]
  },
  {
   "cell_type": "markdown",
   "id": "f1a8f97d",
   "metadata": {},
   "source": [
    "## Singular Value decomoposition"
   ]
  },
  {
   "cell_type": "code",
   "execution_count": 91,
   "id": "2b8d7131",
   "metadata": {},
   "outputs": [],
   "source": [
    "from scipy.sparse.linalg import svds \n",
    "# Singular Value Decomposition\n",
    "U, s, Vt = svds(sparse_user_wise_df, k = 50) # k is the number of latent features\n",
    "\n",
    "# Construct diagonal array in SVD\n",
    "sigma = np.diag(s)\n",
    "predicted_interactions = np.dot(np.dot(U, sigma), Vt) "
   ]
  },
  {
   "cell_type": "code",
   "execution_count": 92,
   "id": "e2620e7d",
   "metadata": {},
   "outputs": [],
   "source": [
    "def evaluate_svd(test_interactions,k=10):\n",
    "    recalls = []\n",
    "    precisions = []\n",
    "    \n",
    "    \n",
    "    for user, actual_items in zip(test_interactions['visitorid'], test_interactions['relevant_items']):\n",
    "        specific_user_index = user_id_to_index[user]\n",
    "\n",
    "        # Vectorized prediction for unseen items\n",
    "        predictions = predicted_interactions[specific_user_index]\n",
    "        predictions = np.argsort(predictions)[-k:][::-1]\n",
    "        \n",
    "        # Select top-k items\n",
    "        top_k_items = [index_to_item_id[pred] for pred in predictions]\n",
    "        \n",
    "        # Compute precision and recall\n",
    "        recalls.append(recall_at_k(actual_items, top_k_items, k))\n",
    "        precisions.append(precision_at_k(actual_items, top_k_items, k))\n",
    "\n",
    "    \n",
    "    return {\n",
    "        f'Precision@{k}': np.mean(precisions),\n",
    "        f'Recall@{k}': np.mean(recalls)\n",
    "    }"
   ]
  },
  {
   "cell_type": "code",
   "execution_count": 93,
   "id": "b4db8b81",
   "metadata": {},
   "outputs": [
    {
     "name": "stdout",
     "output_type": "stream",
     "text": [
      "{'Precision@1': 0.06279733587059944, 'Recall@1': 0.05049931581683325}\n",
      "{'Precision@5': 0.02226450999048525, 'Recall@5': 0.08307321344161409}\n",
      "{'Precision@10': 0.014081826831588965, 'Recall@10': 0.09942914907829946}\n",
      "{'Precision@20': 0.00884871550903901, 'Recall@20': 0.11778291539052228}\n",
      "{'Precision@50': 0.005252140818268316, 'Recall@50': 0.16402967672534172}\n"
     ]
    }
   ],
   "source": [
    "for k in [1,5,10,20,50]:\n",
    "    print(evaluate_svd(test_interactions,k))"
   ]
  },
  {
   "cell_type": "markdown",
   "id": "342e6868",
   "metadata": {},
   "source": [
    "## Removing duplicate events , but weighing the events"
   ]
  },
  {
   "cell_type": "code",
   "execution_count": 94,
   "id": "9fb79ab6e2ba750d",
   "metadata": {
    "ExecuteTime": {
     "end_time": "2024-11-25T20:32:17.945420Z",
     "start_time": "2024-11-25T20:32:17.942439Z"
    }
   },
   "outputs": [],
   "source": [
    "event_map={'view':1, 'addtocart':2, 'transaction':3}\n",
    "train_interactions = interactions[['visitorid','itemid','event']]\n",
    "train_interactions = train_interactions.drop_duplicates()\n",
    "train_interactions['weight'] = train_interactions['event'].apply(lambda x:event_map[x])\n",
    "train_interactions = train_interactions.sort_values(by=['visitorid','itemid','weight'], ascending=[True, True, False])\n",
    "train_interactions = train_interactions.drop_duplicates(subset=['visitorid','itemid'], keep='first')\n"
   ]
  },
  {
   "cell_type": "markdown",
   "id": "45210ac5",
   "metadata": {},
   "source": [
    "### User-user collaborative"
   ]
  },
  {
   "cell_type": "code",
   "execution_count": 95,
   "id": "9c2eb59cf9f4bcc6",
   "metadata": {},
   "outputs": [],
   "source": [
    "user_wise_df = train_interactions.pivot(index='visitorid', columns='itemid', values='weight').fillna(0)\n",
    "sparse_user_wise_df = sparse.csr_matrix(user_wise_df )\n",
    "similarities = cosine_similarity(sparse_user_wise_df,dense_output=False)"
   ]
  },
  {
   "cell_type": "code",
   "execution_count": 96,
   "id": "5359a0cd",
   "metadata": {},
   "outputs": [
    {
     "name": "stdout",
     "output_type": "stream",
     "text": [
      "{'Precision@1': 0.3339676498572788, 'Recall@1': 0.2989444720234238}\n",
      "{'Precision@5': 0.0835394862036156, 'Recall@5': 0.3468876027680471}\n",
      "{'Precision@10': 0.04348239771646051, 'Recall@10': 0.350621361792169}\n",
      "{'Precision@20': 0.022407231208372975, 'Recall@20': 0.3547773105440117}\n",
      "{'Precision@50': 0.00934348239771646, 'Recall@50': 0.3557808065139446}\n"
     ]
    }
   ],
   "source": [
    "for k in [1,5,10,20,50]:\n",
    "    print(evaluate_user_collaborative(test_interactions, k=k))"
   ]
  },
  {
   "cell_type": "markdown",
   "id": "aba7115a",
   "metadata": {},
   "source": [
    "### Item-item collaborative"
   ]
  },
  {
   "cell_type": "code",
   "execution_count": 97,
   "id": "79dc7b60",
   "metadata": {},
   "outputs": [],
   "source": [
    "sparse_item_wise_df = sparse.csr_matrix(user_wise_df.T )\n",
    "item_similarities = cosine_similarity(sparse_item_wise_df,dense_output=False)"
   ]
  },
  {
   "cell_type": "code",
   "execution_count": 98,
   "id": "3f0b8cbc",
   "metadata": {},
   "outputs": [
    {
     "name": "stdout",
     "output_type": "stream",
     "text": [
      "{'Precision@1': 0.3301617507136061, 'Recall@1': 0.30358286526912415}\n",
      "{'Precision@5': 0.08315889628924834, 'Recall@5': 0.3506256396612193}\n",
      "{'Precision@10': 0.0445290199809705, 'Recall@10': 0.36433959543866756}\n",
      "{'Precision@20': 0.02340627973358706, 'Recall@20': 0.3684295187197503}\n",
      "{'Precision@50': 0.00993339676498573, 'Recall@50': 0.3704093140014455}\n"
     ]
    }
   ],
   "source": [
    "for k in [1,5,10,20,50]:\n",
    "    print(evaluate_item_collaborative(test_interactions, k=k))"
   ]
  },
  {
   "cell_type": "markdown",
   "id": "5558bae6",
   "metadata": {},
   "source": [
    "### SVD"
   ]
  },
  {
   "cell_type": "code",
   "execution_count": 99,
   "id": "08a588e8",
   "metadata": {},
   "outputs": [],
   "source": [
    "U, s, Vt = svds(sparse_user_wise_df, k = 50) \n",
    "sigma = np.diag(s)\n",
    "predicted_interactions = np.dot(np.dot(U, sigma), Vt) "
   ]
  },
  {
   "cell_type": "code",
   "execution_count": 100,
   "id": "5b9f033a",
   "metadata": {},
   "outputs": [
    {
     "name": "stdout",
     "output_type": "stream",
     "text": [
      "{'Precision@1': 0.0818268315889629, 'Recall@1': 0.06777940200006045}\n",
      "{'Precision@5': 0.023786869647954328, 'Recall@5': 0.09015885514287615}\n",
      "{'Precision@10': 0.015318744053282589, 'Recall@10': 0.10703198908121396}\n",
      "{'Precision@20': 0.010180780209324452, 'Recall@20': 0.14002662101497954}\n",
      "{'Precision@50': 0.005937202664129401, 'Recall@50': 0.1879631024226981}\n"
     ]
    }
   ],
   "source": [
    "for k in [1,5,10,20,50]:\n",
    "    print(evaluate_svd(test_interactions, k=k))"
   ]
  },
  {
   "cell_type": "code",
   "execution_count": null,
   "id": "8d15957d",
   "metadata": {},
   "outputs": [],
   "source": []
  }
 ],
 "metadata": {
  "kernelspec": {
   "display_name": "Python 3",
   "language": "python",
   "name": "python3"
  },
  "language_info": {
   "codemirror_mode": {
    "name": "ipython",
    "version": 3
   },
   "file_extension": ".py",
   "mimetype": "text/x-python",
   "name": "python",
   "nbconvert_exporter": "python",
   "pygments_lexer": "ipython3",
   "version": "3.11.4"
  }
 },
 "nbformat": 4,
 "nbformat_minor": 5
}
